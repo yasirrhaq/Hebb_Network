{
  "nbformat": 4,
  "nbformat_minor": 0,
  "metadata": {
    "colab": {
      "provenance": [],
      "authorship_tag": "ABX9TyOP6eezfHb1c8sV25XnFHSs",
      "include_colab_link": true
    },
    "kernelspec": {
      "name": "python3",
      "display_name": "Python 3"
    },
    "language_info": {
      "name": "python"
    }
  },
  "cells": [
    {
      "cell_type": "markdown",
      "metadata": {
        "id": "view-in-github",
        "colab_type": "text"
      },
      "source": [
        "<a href=\"https://colab.research.google.com/github/yasirrhaq/Hebb_Network/blob/main/Algoritma_hebb.ipynb\" target=\"_parent\"><img src=\"https://colab.research.google.com/assets/colab-badge.svg\" alt=\"Open In Colab\"/></a>"
      ]
    },
    {
      "cell_type": "markdown",
      "source": [
        "Tugas Sistem Cerdas Algoritma Hebb\n",
        "\n",
        "Nama: Muhammad Yasir Anshari Haq\n",
        "\n",
        "NIM: 226150100111009\n",
        "\n",
        "Kelas: B"
      ],
      "metadata": {
        "id": "cpydQBvQAXYe"
      }
    },
    {
      "cell_type": "code",
      "execution_count": 320,
      "metadata": {
        "id": "CYhuPdIoZfbm"
      },
      "outputs": [],
      "source": [
        "import numpy as np"
      ]
    },
    {
      "cell_type": "markdown",
      "source": [
        "Algoritma Hebb dengan 4 input dan 2 output"
      ],
      "metadata": {
        "id": "pykQ-OHOh2Nq"
      }
    },
    {
      "cell_type": "code",
      "source": [
        "# Fungsi Aktivasi\n",
        "def activation_func(y_in):\n",
        "  return 0 if y_in <= 0 else 1"
      ],
      "metadata": {
        "id": "5k-CXTkja4t-"
      },
      "execution_count": 321,
      "outputs": []
    },
    {
      "cell_type": "code",
      "source": [
        "class Hebb():\n",
        "\n",
        "    # Inisialisasi semua bobot = 0\n",
        "    def __init__(self, n_input, y_output):\n",
        "      self.n_input = n_input\n",
        "      self.y_output = y_output\n",
        "      self.weight = np.zeros((n_input, y_output))\n",
        "    \n",
        "    def learn(self, x, y):\n",
        "      for x, y in zip(x, y):\n",
        "        for i in range(len(self.weight)):\n",
        "          for j in range(len(self.weight[i])):\n",
        "            # Rumus perbaikan bobot\n",
        "            #  w(baru) = w(lama) + xi*y\n",
        "            self.weight[i][j] = self.weight[i][j] + (x[i]*y[j]) \n",
        "        \n",
        "    def testing(self, x):\n",
        "      testing_result = []\n",
        "      for i in range(self.y_output):\n",
        "        # y_in1 = x1*w11 + x2*w21 + x3*w31 + x4*w41 (dot product)\n",
        "        # y_in2 = y1*w12 + y2*w22 + y3*w32 + y4*w42 (dot product)\n",
        "        y_in = np.dot(x,self.weight[:, i])\n",
        "        y_in = activation_func(y_in)\n",
        "        testing_result.append(y_in)\n",
        "      return testing_result"
      ],
      "metadata": {
        "id": "gWG9dy-B8DU_"
      },
      "execution_count": 322,
      "outputs": []
    },
    {
      "cell_type": "code",
      "source": [
        "s = [[1,0,0,0], [1,1,0,0], [0,0,0,1], [0,0,1,1]]\n",
        "t = [[1,0],[1,0],[0,1],[0,1]]\n",
        "\n",
        "hebb = Hebb(len(s[0]),len(t[0]))\n",
        "hebb.learn(s,t)\n",
        "print(f\"matrix bobot hasil pelatihan\\n{hebb.weight}\")"
      ],
      "metadata": {
        "colab": {
          "base_uri": "https://localhost:8080/"
        },
        "id": "0MAZ2ugAmbG7",
        "outputId": "802d261f-9c9c-43b5-ebec-7d6ff9e99d98"
      },
      "execution_count": 323,
      "outputs": [
        {
          "output_type": "stream",
          "name": "stdout",
          "text": [
            "matrix bobot hasil pelatihan\n",
            "[[2. 0.]\n",
            " [1. 0.]\n",
            " [0. 1.]\n",
            " [0. 2.]]\n"
          ]
        }
      ]
    },
    {
      "cell_type": "code",
      "source": [
        "#pengujian \n",
        "#s1 = hebb.testing(s[0]) #[1,0,0,0]\n",
        "#s2 = hebb.testing(s[1]) #[1,1,0,0]\n",
        "#s3 = hebb.testing(s[2]) #[0,0,0,1]\n",
        "#s4 = hebb.testing(s[3]) #[0,0,1,1]\n",
        "i=0\n",
        "for x in s:\n",
        "  print(f\"Test case-{i+1} dengan x = {x} dikalikan dengan matrix bobot hasil pelatihan menghasilkan nilai {hebb.testing(s[i])} dan hasilnya akurat\") if hebb.testing(s[i]) == t[i] else print(f\"Test case-{i+1} dengan x = {x} dengan matrix bobot hasil pelatihan menghasilkan nilai {hebb.testing(s[i])} dan hasilnya tidak akurat\")\n",
        "  i+=1"
      ],
      "metadata": {
        "colab": {
          "base_uri": "https://localhost:8080/"
        },
        "id": "4Ofw8AoU0PYT",
        "outputId": "f472052c-3158-4e1d-ab58-6ae38a066e63"
      },
      "execution_count": 324,
      "outputs": [
        {
          "output_type": "stream",
          "name": "stdout",
          "text": [
            "Test case-1 dengan x = [1, 0, 0, 0] dikalikan dengan matrix bobot hasil pelatihan menghasilkan nilai [1, 0] dan hasilnya akurat\n",
            "Test case-2 dengan x = [1, 1, 0, 0] dikalikan dengan matrix bobot hasil pelatihan menghasilkan nilai [1, 0] dan hasilnya akurat\n",
            "Test case-3 dengan x = [0, 0, 0, 1] dikalikan dengan matrix bobot hasil pelatihan menghasilkan nilai [0, 1] dan hasilnya akurat\n",
            "Test case-4 dengan x = [0, 0, 1, 1] dikalikan dengan matrix bobot hasil pelatihan menghasilkan nilai [0, 1] dan hasilnya akurat\n"
          ]
        }
      ]
    }
  ]
}